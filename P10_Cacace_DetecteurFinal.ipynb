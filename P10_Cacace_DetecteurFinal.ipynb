{
 "cells": [
  {
   "cell_type": "code",
   "execution_count": 2,
   "metadata": {},
   "outputs": [
    {
     "name": "stdout",
     "output_type": "stream",
     "text": [
      "<class 'pandas.core.frame.DataFrame'>\n",
      "RangeIndex: 5 entries, 0 to 4\n",
      "Data columns (total 7 columns):\n",
      " #   Column        Non-Null Count  Dtype  \n",
      "---  ------        --------------  -----  \n",
      " 0   diagonal      5 non-null      float64\n",
      " 1   height_left   5 non-null      float64\n",
      " 2   height_right  5 non-null      float64\n",
      " 3   margin_low    5 non-null      float64\n",
      " 4   margin_up     5 non-null      float64\n",
      " 5   length        5 non-null      float64\n",
      " 6   id            5 non-null      object \n",
      "dtypes: float64(6), object(1)\n",
      "memory usage: 408.0+ bytes\n",
      "Optimization terminated successfully.\n",
      "         Current function value: 0.026815\n",
      "         Iterations 13\n",
      "\n",
      "Indetification des billets:\n",
      "\n",
      "Le billet B_1 est vrai\n",
      "Le billet B_2 est faux\n",
      "Le billet B_3 est vrai\n",
      "Le billet B_4 est faux\n",
      "Le billet B_5 est faux\n"
     ]
    }
   ],
   "source": [
    "import pandas as pd\n",
    "import statsmodels.api as sm\n",
    "from statsmodels.api import Logit\n",
    "\n",
    "## Import des donnees:\n",
    "Billet_df = pd.read_csv(\"billet_complet.csv\")                   #Training set\n",
    "Billet_test_df = pd.read_csv(\"billets_test.csv\")                 #Testing set             #On verrifira le nom du fichier\n",
    "\n",
    "Billet_test_df.info()                                                                    #On verrifira que la colonne id est bien présente\n",
    "\n",
    "\n",
    "## Entrainement du modele:\n",
    "# y (authenticite): \n",
    "y_billet = Billet_df.loc[:, Billet_df.columns == \"is_genuine\"]\n",
    "\n",
    "# On ne garde que les variables significatives a alpha = 5% dans X_Billet:\n",
    "X_billet = Billet_df[[\"height_right\",\"margin_low\", \"margin_up\", \"length\"]]\n",
    "X_billet = sm.add_constant(X_billet)\n",
    "\n",
    "# On recommence la regression logistique:\n",
    "reg_log = Logit(endog=y_billet,exog=X_billet)\n",
    "\n",
    "# Creation du modele:\n",
    "model_reg_log = reg_log.fit()\n",
    "\n",
    "\n",
    "## Prediction sur des donnes inconnues:\n",
    "# Calculs:\n",
    "X_test = Billet_test_df[[\"height_right\",\"margin_low\",\"margin_up\",\"length\"]]\n",
    "X_test = sm.add_constant(X_test)\n",
    "Billet_test_df[\"proba\"] = model_reg_log.predict(X_test)\n",
    "Billet_test_df[\"pred\"] = (model_reg_log.predict(X_test) >= 0.5).astype(int)\n",
    "\n",
    "# Affichage des resultats:\n",
    "print(\"\\nIndetification des billets:\\n\")\n",
    "for i, k in zip(Billet_test_df[\"pred\"],Billet_test_df[\"id\"]):\n",
    "    if i == 1:\n",
    "        print(\"Le billet\",\"{}\".format(k),\"est vrai\")\n",
    "    else:\n",
    "        print(\"Le billet\",\"{}\".format(k),\"est faux\")"
   ]
  }
 ],
 "metadata": {
  "interpreter": {
   "hash": "404051c4332f3092e5aa7fdae49aa9cc513071843651b7fc7d1945385bcec5c0"
  },
  "kernelspec": {
   "display_name": "Python 3.8.8 64-bit ('base': conda)",
   "language": "python",
   "name": "python3"
  },
  "language_info": {
   "codemirror_mode": {
    "name": "ipython",
    "version": 3
   },
   "file_extension": ".py",
   "mimetype": "text/x-python",
   "name": "python",
   "nbconvert_exporter": "python",
   "pygments_lexer": "ipython3",
   "version": "3.8.8"
  },
  "orig_nbformat": 4
 },
 "nbformat": 4,
 "nbformat_minor": 2
}
